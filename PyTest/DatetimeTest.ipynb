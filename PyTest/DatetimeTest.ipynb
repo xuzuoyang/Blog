{
 "cells": [
  {
   "cell_type": "code",
   "execution_count": 5,
   "metadata": {
    "collapsed": false
   },
   "outputs": [
    {
     "name": "stdout",
     "output_type": "stream",
     "text": [
      "<class 'datetime.datetime'>\n"
     ]
    }
   ],
   "source": [
    "import datetime\n",
    "\n",
    "dt1 = '2016-01-02'\n",
    "dt2 = datetime.datetime.strptime(dt1, '%Y-%m-%d')\n",
    "print(type(dt2))"
   ]
  },
  {
   "cell_type": "code",
   "execution_count": 6,
   "metadata": {
    "collapsed": false
   },
   "outputs": [
    {
     "name": "stdout",
     "output_type": "stream",
     "text": [
      "<class 'datetime.datetime'>\n",
      "12-28\n",
      "2016-12-27 00:00:00\n",
      "2016-12-28\n",
      "2016-12-29\n"
     ]
    }
   ],
   "source": [
    "import datetime\n",
    "\n",
    "now = datetime.datetime.now()\n",
    "s = now.strftime(\"%m-%d\")\n",
    "print(type(now))\n",
    "print(s)\n",
    "\n",
    "today = datetime.date.today()\n",
    "yesterday = today + datetime.timedelta(days=-1)\n",
    "print(yesterday.strftime(\"%Y-%m-%d %H:%M:%S\"))\n",
    "s += 's' + 'd'\n",
    "print(today.strftime(\"%Y-%m-%d\"))\n",
    "print((datetime.date.today()-datetime.timedelta(days=-1)).strftime('%Y-%m-%d'))"
   ]
  },
  {
   "cell_type": "code",
   "execution_count": 3,
   "metadata": {
    "collapsed": false
   },
   "outputs": [
    {
     "name": "stdout",
     "output_type": "stream",
     "text": [
      "2016-09-01\n",
      "2016-09-02\n",
      "2016-09-03\n",
      "2016-09-04\n",
      "2016-09-05\n",
      "2016-09-06\n",
      "2016-09-07\n",
      "2016-09-08\n",
      "2016-09-09\n",
      "2016-09-10\n",
      "2016-09-11\n",
      "2016-09-12\n",
      "2016-09-13\n",
      "2016-09-14\n",
      "2016-09-15\n",
      "2016-09-16\n",
      "2016-09-17\n",
      "2016-09-18\n",
      "2016-09-19\n",
      "2016-09-20\n",
      "2016-09-21\n",
      "2016-09-22\n",
      "2016-09-23\n",
      "2016-09-24\n",
      "2016-09-25\n",
      "2016-09-26\n",
      "2016-09-27\n",
      "2016-09-28\n",
      "2016-09-29\n",
      "2016-09-30\n",
      "2016-10-01\n",
      "2016-10-02\n",
      "2016-10-03\n",
      "2016-10-04\n",
      "2016-10-05\n",
      "2016-10-06\n",
      "2016-10-07\n",
      "2016-10-08\n",
      "2016-10-09\n",
      "2016-10-10\n",
      "2016-10-11\n",
      "2016-10-12\n",
      "2016-10-13\n",
      "2016-10-14\n",
      "2016-10-15\n",
      "2016-10-16\n",
      "2016-10-17\n",
      "2016-10-18\n",
      "2016-10-19\n",
      "2016-10-20\n",
      "2016-10-21\n",
      "2016-10-22\n",
      "2016-10-23\n",
      "2016-10-24\n",
      "2016-10-25\n",
      "2016-10-26\n",
      "2016-10-27\n",
      "2016-10-28\n",
      "2016-10-29\n",
      "2016-10-30\n",
      "2016-10-31\n",
      "2016-11-01\n",
      "2016-11-02\n",
      "2016-11-03\n",
      "2016-11-04\n",
      "2016-11-05\n",
      "2016-11-06\n",
      "2016-11-07\n",
      "2016-11-08\n",
      "2016-11-09\n",
      "2016-11-10\n",
      "2016-11-11\n",
      "2016-11-12\n",
      "2016-11-13\n",
      "2016-11-14\n",
      "2016-11-15\n",
      "2016-11-16\n",
      "2016-11-17\n",
      "2016-11-18\n",
      "2016-11-19\n",
      "2016-11-20\n",
      "2016-11-21\n",
      "2016-11-22\n",
      "2016-11-23\n",
      "2016-11-24\n",
      "2016-11-25\n",
      "2016-11-26\n",
      "2016-11-27\n",
      "2016-11-28\n",
      "2016-11-29\n",
      "2016-11-30\n",
      "2016-12-01\n",
      "2016-12-02\n",
      "2016-12-03\n",
      "2016-12-04\n",
      "2016-12-05\n",
      "2016-12-06\n",
      "2016-12-07\n",
      "2016-12-08\n",
      "2016-12-09\n",
      "2016-12-10\n",
      "2016-12-11\n",
      "2016-12-12\n",
      "2016-12-13\n",
      "2016-12-14\n",
      "2016-12-15\n",
      "2016-12-16\n",
      "2016-12-17\n",
      "2016-12-18\n",
      "2016-12-19\n",
      "2016-12-20\n",
      "2016-12-21\n",
      "2016-12-22\n",
      "2016-12-23\n",
      "2016-12-24\n",
      "2016-12-25\n",
      "2016-12-26\n",
      "2016-12-27\n",
      "2016-12-28\n",
      "2016-12-29\n",
      "2016-12-30\n",
      "2016-12-31\n",
      "2017-01-01\n"
     ]
    }
   ],
   "source": [
    "import datetime\n",
    "\n",
    "#两日期之间遍历\n",
    "start = datetime.date(2016, 9, 1)\n",
    "end = datetime.date(2017, 1, 1)\n",
    "\n",
    "for i in range((end-start).days+1):\n",
    "    print(start+datetime.timedelta(days=i))"
   ]
  },
  {
   "cell_type": "code",
   "execution_count": 11,
   "metadata": {
    "collapsed": false
   },
   "outputs": [],
   "source": [
    "result = {'date1': [1,2,3], 'date2': [4,5,6]}\n",
    "with open('/Users/zuoyangxu/Downloads/data/user.txt', 'w') as file:\n",
    "        for key, value in result.items():\n",
    "            file.write(key+': '+str(value)+'\\n')"
   ]
  }
 ],
 "metadata": {
  "kernelspec": {
   "display_name": "Python 3",
   "language": "python",
   "name": "python3"
  },
  "language_info": {
   "codemirror_mode": {
    "name": "ipython",
    "version": 3
   },
   "file_extension": ".py",
   "mimetype": "text/x-python",
   "name": "python",
   "nbconvert_exporter": "python",
   "pygments_lexer": "ipython3",
   "version": "3.5.1"
  }
 },
 "nbformat": 4,
 "nbformat_minor": 2
}
