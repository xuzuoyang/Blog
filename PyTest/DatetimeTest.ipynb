{
 "cells": [
  {
   "cell_type": "code",
   "execution_count": 2,
   "metadata": {
    "collapsed": false
   },
   "outputs": [
    {
     "name": "stdout",
     "output_type": "stream",
     "text": [
      "<class 'datetime.datetime'>\n",
      "2016-09-29\n"
     ]
    }
   ],
   "source": [
    "import datetime\n",
    "\n",
    "dt1 = '2014-12-07'\n",
    "dt2 = datetime.datetime.strptime(dt1, '%Y-%m-%d')\n",
    "print(type(dt2))\n",
    "print((dt2+datetime.timedelta(days=662)).strftime('%Y-%m-%d'))"
   ]
  },
  {
   "cell_type": "code",
   "execution_count": 6,
   "metadata": {
    "collapsed": false
   },
   "outputs": [
    {
     "name": "stdout",
     "output_type": "stream",
     "text": [
      "<class 'datetime.datetime'>\n",
      "12-28\n",
      "2016-12-27 00:00:00\n",
      "2016-12-28\n",
      "2016-12-29\n"
     ]
    }
   ],
   "source": [
    "import datetime\n",
    "\n",
    "now = datetime.datetime.now()\n",
    "s = now.strftime(\"%m-%d\")\n",
    "print(type(now))\n",
    "print(s)\n",
    "\n",
    "today = datetime.date.today()\n",
    "yesterday = today + datetime.timedelta(days=-1)\n",
    "print(yesterday.strftime(\"%Y-%m-%d %H:%M:%S\"))\n",
    "s += 's' + 'd'\n",
    "print(today.strftime(\"%Y-%m-%d\"))\n",
    "print((datetime.date.today()-datetime.timedelta(days=-1)).strftime('%Y-%m-%d'))"
   ]
  },
  {
   "cell_type": "code",
   "execution_count": 15,
   "metadata": {
    "collapsed": false
   },
   "outputs": [
    {
     "name": "stdout",
     "output_type": "stream",
     "text": [
      "690\n",
      "99\n",
      "2014-12-13\n",
      "2014-12-20\n",
      "2014-12-27\n",
      "2015-01-03\n",
      "2015-01-10\n",
      "2015-01-17\n",
      "2015-01-24\n",
      "2015-01-31\n",
      "2015-02-07\n",
      "2015-02-14\n",
      "2015-02-21\n",
      "2015-02-28\n",
      "2015-03-07\n",
      "2015-03-14\n",
      "2015-03-21\n",
      "2015-03-28\n",
      "2015-04-04\n",
      "2015-04-11\n",
      "2015-04-18\n",
      "2015-04-25\n",
      "2015-05-02\n",
      "2015-05-09\n",
      "2015-05-16\n",
      "2015-05-23\n",
      "2015-05-30\n",
      "2015-06-06\n",
      "2015-06-13\n",
      "2015-06-20\n",
      "2015-06-27\n",
      "2015-07-04\n",
      "2015-07-11\n",
      "2015-07-18\n",
      "2015-07-25\n",
      "2015-08-01\n",
      "2015-08-08\n",
      "2015-08-15\n",
      "2015-08-22\n",
      "2015-08-29\n",
      "2015-09-05\n",
      "2015-09-12\n",
      "2015-09-19\n",
      "2015-09-26\n",
      "2015-10-03\n",
      "2015-10-10\n",
      "2015-10-17\n",
      "2015-10-24\n",
      "2015-10-31\n",
      "2015-11-07\n",
      "2015-11-14\n",
      "2015-11-21\n",
      "2015-11-28\n",
      "2015-12-05\n",
      "2015-12-12\n",
      "2015-12-19\n",
      "2015-12-26\n",
      "2016-01-02\n",
      "2016-01-09\n",
      "2016-01-16\n",
      "2016-01-23\n",
      "2016-01-30\n",
      "2016-02-06\n",
      "2016-02-13\n",
      "2016-02-20\n",
      "2016-02-27\n",
      "2016-03-05\n",
      "2016-03-12\n",
      "2016-03-19\n",
      "2016-03-26\n",
      "2016-04-02\n",
      "2016-04-09\n",
      "2016-04-16\n",
      "2016-04-23\n",
      "2016-04-30\n",
      "2016-05-07\n",
      "2016-05-14\n",
      "2016-05-21\n",
      "2016-05-28\n",
      "2016-06-04\n",
      "2016-06-11\n",
      "2016-06-18\n",
      "2016-06-25\n",
      "2016-07-02\n",
      "2016-07-09\n",
      "2016-07-16\n",
      "2016-07-23\n",
      "2016-07-30\n",
      "2016-08-06\n",
      "2016-08-13\n",
      "2016-08-20\n",
      "2016-08-27\n",
      "2016-09-03\n",
      "2016-09-10\n",
      "2016-09-17\n",
      "2016-09-24\n",
      "2016-10-01\n",
      "2016-10-08\n",
      "2016-10-15\n",
      "2016-10-22\n"
     ]
    }
   ],
   "source": [
    "import datetime\n",
    "\n",
    "#两日期之间遍历\n",
    "start = datetime.date(2014, 12, 7)\n",
    "end = datetime.date(2016, 10, 26)\n",
    "\n",
    "dates = []\n",
    "for i in range((end-start).days+1):\n",
    "    dates.append(start+datetime.timedelta(days=i))\n",
    "    \n",
    "print(len(dates))\n",
    "print(len(dates[::7]))\n",
    "for date in dates[6::7]:\n",
    "    print(date)"
   ]
  },
  {
   "cell_type": "code",
   "execution_count": 11,
   "metadata": {
    "collapsed": false
   },
   "outputs": [],
   "source": [
    "result = {'date1': [1,2,3], 'date2': [4,5,6]}\n",
    "with open('/Users/zuoyangxu/Downloads/data/user.txt', 'w') as file:\n",
    "        for key, value in result.items():\n",
    "            file.write(key+': '+str(value)+'\\n')"
   ]
  }
 ],
 "metadata": {
  "kernelspec": {
   "display_name": "Python 3",
   "language": "python",
   "name": "python3"
  },
  "language_info": {
   "codemirror_mode": {
    "name": "ipython",
    "version": 3
   },
   "file_extension": ".py",
   "mimetype": "text/x-python",
   "name": "python",
   "nbconvert_exporter": "python",
   "pygments_lexer": "ipython3",
   "version": "3.5.1"
  }
 },
 "nbformat": 4,
 "nbformat_minor": 2
}
