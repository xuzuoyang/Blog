{
 "cells": [
  {
   "cell_type": "code",
   "execution_count": 6,
   "metadata": {
    "collapsed": false
   },
   "outputs": [
    {
     "name": "stdout",
     "output_type": "stream",
     "text": [
      "<class 'datetime.datetime'>\n",
      "12-28\n",
      "2016-12-27 00:00:00\n",
      "2016-12-28\n",
      "2016-12-29\n"
     ]
    }
   ],
   "source": [
    "import datetime\n",
    "\n",
    "now = datetime.datetime.now()\n",
    "s = now.strftime(\"%m-%d\")\n",
    "print(type(now))\n",
    "print(s)\n",
    "\n",
    "today = datetime.date.today()\n",
    "yesterday = today + datetime.timedelta(days=-1)\n",
    "print(yesterday.strftime(\"%Y-%m-%d %H:%M:%S\"))\n",
    "s += 's' + 'd'\n",
    "print(today.strftime(\"%Y-%m-%d\"))\n",
    "print((datetime.date.today()-datetime.timedelta(days=-1)).strftime('%Y-%m-%d'))"
   ]
  }
 ],
 "metadata": {
  "kernelspec": {
   "display_name": "Python 3",
   "language": "python",
   "name": "python3"
  },
  "language_info": {
   "codemirror_mode": {
    "name": "ipython",
    "version": 3
   },
   "file_extension": ".py",
   "mimetype": "text/x-python",
   "name": "python",
   "nbconvert_exporter": "python",
   "pygments_lexer": "ipython3",
   "version": "3.5.1"
  }
 },
 "nbformat": 4,
 "nbformat_minor": 2
}
