{
 "cells": [
  {
   "cell_type": "raw",
   "metadata": {},
   "source": [
    "Python Inspect Module"
   ]
  },
  {
   "cell_type": "code",
   "execution_count": 11,
   "metadata": {
    "collapsed": false
   },
   "outputs": [
    {
     "name": "stdout",
     "output_type": "stream",
     "text": [
      "OrderedDict([('a', <Parameter \"a\">), ('b', <Parameter \"b:int\">), ('kwargs', <Parameter \"**kwargs\">)])\n",
      "a;a>\n",
      "b;b:int>\n",
      "kwargs;**kwargs>\n"
     ]
    }
   ],
   "source": [
    "from inspect import signature\n",
    "\n",
    "def f(a, *, b:int, **kwargs):\n",
    "    pass\n",
    "\n",
    "sig = signature(f)\n",
    "params = sig.parameters\n",
    "print(params)\n",
    "for k, v in params.items():\n",
    "    print(str(k)+';'+str(v)+'>')"
   ]
  },
  {
   "cell_type": "raw",
   "metadata": {},
   "source": [
    "Parameter.kind\n",
    "1. POSITIONAL_ONLY(deprecated)\n",
    "2. POSITIONAL_OR_KEYWORD\n",
    "3. VAR_POSITIONAL\n",
    "4. KEYWORD_ONLY\n",
    "5. VAR_KEYWORD"
   ]
  },
  {
   "cell_type": "code",
   "execution_count": null,
   "metadata": {
    "collapsed": true
   },
   "outputs": [],
   "source": [
    "def f(a):\n",
    "    pass\n",
    "f(1)\n",
    "f(a=1)"
   ]
  },
  {
   "cell_type": "code",
   "execution_count": 17,
   "metadata": {
    "collapsed": true
   },
   "outputs": [],
   "source": [
    "def f(*a):\n",
    "    pass\n",
    "f()\n",
    "f(1,2,True,1.2)"
   ]
  },
  {
   "cell_type": "code",
   "execution_count": 15,
   "metadata": {
    "collapsed": false
   },
   "outputs": [],
   "source": [
    "def f(*, a):\n",
    "    pass\n",
    "f(a=1)"
   ]
  },
  {
   "cell_type": "code",
   "execution_count": 16,
   "metadata": {
    "collapsed": true
   },
   "outputs": [],
   "source": [
    "def f(**a):\n",
    "    pass\n",
    "f()\n",
    "f(a=1,b=2)"
   ]
  }
 ],
 "metadata": {
  "kernelspec": {
   "display_name": "Python 3",
   "language": "python",
   "name": "python3"
  },
  "language_info": {
   "codemirror_mode": {
    "name": "ipython",
    "version": 3
   },
   "file_extension": ".py",
   "mimetype": "text/x-python",
   "name": "python",
   "nbconvert_exporter": "python",
   "pygments_lexer": "ipython3",
   "version": "3.5.2"
  }
 },
 "nbformat": 4,
 "nbformat_minor": 2
}
