{
 "cells": [
  {
   "cell_type": "raw",
   "metadata": {},
   "source": [
    "Python Classes"
   ]
  },
  {
   "cell_type": "raw",
   "metadata": {},
   "source": [
    "Immutable basic types: numbers, strings and tuples\n",
    "Mutable types: lists, dicts and most other types"
   ]
  },
  {
   "cell_type": "raw",
   "metadata": {},
   "source": [
    "Namespaces and scopes"
   ]
  },
  {
   "cell_type": "raw",
   "metadata": {},
   "source": [
    "The global statement can be used to indicate that particular variables live in the global scope and should be rebound there; the nonlocal statement indicates that particular variables live in an enclosing scope and should be rebound there."
   ]
  },
  {
   "cell_type": "code",
   "execution_count": 8,
   "metadata": {
    "collapsed": false
   },
   "outputs": [
    {
     "name": "stdout",
     "output_type": "stream",
     "text": [
      "After do_local spam is: test spam\n",
      "After do_nonlocal spam is: nonlocal spam\n",
      "After do_global spam is: nonlocal spam\n",
      "In global scope spam is: global spam\n"
     ]
    }
   ],
   "source": [
    "def scope_test():\n",
    "    def do_local():\n",
    "        spam='local spam'\n",
    "\n",
    "    def do_nonlocal():\n",
    "        nonlocal spam\n",
    "        spam='nonlocal spam'\n",
    "        \n",
    "    def do_global():\n",
    "        global spam\n",
    "        spam='global spam'\n",
    "        \n",
    "    spam = 'test spam'\n",
    "    do_local()\n",
    "    print('After do_local spam is: '+spam)\n",
    "    do_nonlocal()\n",
    "    print('After do_nonlocal spam is: '+spam)\n",
    "    do_global()\n",
    "    print('After do_global spam is: '+spam)\n",
    "scope_test()\n",
    "print('In global scope spam is: '+spam)"
   ]
  },
  {
   "cell_type": "raw",
   "metadata": {},
   "source": [
    "Class objects: support two operations --> attribute references and instantiations"
   ]
  },
  {
   "cell_type": "code",
   "execution_count": 12,
   "metadata": {
    "collapsed": false
   },
   "outputs": [
    {
     "name": "stdout",
     "output_type": "stream",
     "text": [
      "123\n"
     ]
    }
   ],
   "source": [
    "class MyClass:\n",
    "    \"\"\"A simiple class example\"\"\"\n",
    "    i = 123\n",
    "    def count(self):\n",
    "        print(self.i)\n",
    "myclass = MyClass()\n",
    "myclass.count()"
   ]
  },
  {
   "cell_type": "raw",
   "metadata": {},
   "source": [
    "Instance objects: have data attributes and methods\n",
    "MyClass.count is a function object and myclass.count is a method object\n",
    "MyClass.count(myclass) <--> myclass.count() 可以看成function与method的区别"
   ]
  },
  {
   "cell_type": "code",
   "execution_count": 16,
   "metadata": {
    "collapsed": false
   },
   "outputs": [
    {
     "name": "stdout",
     "output_type": "stream",
     "text": [
      "<function MyClass.count at 0x7f6202722730>\n",
      "<bound method MyClass.count of <__main__.MyClass object at 0x7f6202744d30>>\n"
     ]
    }
   ],
   "source": [
    "myclass = MyClass()\n",
    "print(MyClass.count)\n",
    "print(myclass.count)"
   ]
  },
  {
   "cell_type": "raw",
   "metadata": {},
   "source": []
  },
  {
   "cell_type": "raw",
   "metadata": {},
   "source": []
  },
  {
   "cell_type": "raw",
   "metadata": {},
   "source": []
  },
  {
   "cell_type": "raw",
   "metadata": {},
   "source": []
  },
  {
   "cell_type": "code",
   "execution_count": 1,
   "metadata": {
    "collapsed": false
   },
   "outputs": [
    {
     "ename": "AttributeError",
     "evalue": "'function' object has no attribute 'parameters'",
     "output_type": "error",
     "traceback": [
      "\u001b[0;31m---------------------------------------------------------------------------\u001b[0m",
      "\u001b[0;31mAttributeError\u001b[0m                            Traceback (most recent call last)",
      "\u001b[0;32m<ipython-input-1-d5b7ca9a20b1>\u001b[0m in \u001b[0;36m<module>\u001b[0;34m()\u001b[0m\n\u001b[1;32m      4\u001b[0m     \u001b[0;32mpass\u001b[0m\u001b[0;34m\u001b[0m\u001b[0m\n\u001b[1;32m      5\u001b[0m \u001b[0;34m\u001b[0m\u001b[0m\n\u001b[0;32m----> 6\u001b[0;31m \u001b[0mresult\u001b[0m \u001b[0;34m=\u001b[0m \u001b[0minspect\u001b[0m\u001b[0;34m.\u001b[0m\u001b[0msignature\u001b[0m\u001b[0;34m.\u001b[0m\u001b[0mparameters\u001b[0m\u001b[0;34m(\u001b[0m\u001b[0;34m)\u001b[0m\u001b[0;34m\u001b[0m\u001b[0m\n\u001b[0m\u001b[1;32m      7\u001b[0m \u001b[0mprint\u001b[0m\u001b[0;34m(\u001b[0m\u001b[0mresult\u001b[0m\u001b[0;34m)\u001b[0m\u001b[0;34m\u001b[0m\u001b[0m\n",
      "\u001b[0;31mAttributeError\u001b[0m: 'function' object has no attribute 'parameters'"
     ]
    }
   ],
   "source": [
    "import inspect\n",
    "\n",
    "def foo(key, *args, **kwargs):\n",
    "    pass\n",
    "\n",
    "result = inspect.signature(.parameters()\n",
    "print(result)"
   ]
  },
  {
   "cell_type": "code",
   "execution_count": null,
   "metadata": {
    "collapsed": true
   },
   "outputs": [],
   "source": []
  }
 ],
 "metadata": {
  "kernelspec": {
   "display_name": "Python 3",
   "language": "python",
   "name": "python3"
  },
  "language_info": {
   "codemirror_mode": {
    "name": "ipython",
    "version": 3
   },
   "file_extension": ".py",
   "mimetype": "text/x-python",
   "name": "python",
   "nbconvert_exporter": "python",
   "pygments_lexer": "ipython3",
   "version": "3.5.2"
  }
 },
 "nbformat": 4,
 "nbformat_minor": 2
}
