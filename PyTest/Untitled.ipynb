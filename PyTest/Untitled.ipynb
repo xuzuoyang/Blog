{
 "cells": [
  {
   "cell_type": "raw",
   "metadata": {},
   "source": [
    "Python Classes"
   ]
  },
  {
   "cell_type": "raw",
   "metadata": {},
   "source": [
    "Immutable basic types: numbers, strings and tuples\n",
    "Mutable types: lists, dicts and most other types"
   ]
  },
  {
   "cell_type": "raw",
   "metadata": {},
   "source": [
    "Namespaces and scopes"
   ]
  },
  {
   "cell_type": "raw",
   "metadata": {},
   "source": [
    "The global statement can be used to indicate that particular variables live in the global scope and should be rebound there; the nonlocal statement indicates that particular variables live in an enclosing scope and should be rebound there."
   ]
  },
  {
   "cell_type": "code",
   "execution_count": 8,
   "metadata": {
    "collapsed": false
   },
   "outputs": [
    {
     "name": "stdout",
     "output_type": "stream",
     "text": [
      "After do_local spam is: test spam\n",
      "After do_nonlocal spam is: nonlocal spam\n",
      "After do_global spam is: nonlocal spam\n",
      "In global scope spam is: global spam\n"
     ]
    }
   ],
   "source": [
    "def scope_test():\n",
    "    def do_local():\n",
    "        spam='local spam'\n",
    "\n",
    "    def do_nonlocal():\n",
    "        nonlocal spam\n",
    "        spam='nonlocal spam'\n",
    "        \n",
    "    def do_global():\n",
    "        global spam\n",
    "        spam='global spam'\n",
    "        \n",
    "    spam = 'test spam'\n",
    "    do_local()\n",
    "    print('After do_local spam is: '+spam)\n",
    "    do_nonlocal()\n",
    "    print('After do_nonlocal spam is: '+spam)\n",
    "    do_global()\n",
    "    print('After do_global spam is: '+spam)\n",
    "scope_test()\n",
    "print('In global scope spam is: '+spam)"
   ]
  },
  {
   "cell_type": "raw",
   "metadata": {},
   "source": [
    "Class objects: support two operations --> attribute references and instantiations"
   ]
  },
  {
   "cell_type": "code",
   "execution_count": 12,
   "metadata": {
    "collapsed": false
   },
   "outputs": [
    {
     "name": "stdout",
     "output_type": "stream",
     "text": [
      "123\n"
     ]
    }
   ],
   "source": [
    "class MyClass:\n",
    "    \"\"\"A simiple class example\"\"\"\n",
    "    i = 123\n",
    "    def count(self):\n",
    "        print(self.i)\n",
    "myclass = MyClass()\n",
    "myclass.count()"
   ]
  },
  {
   "cell_type": "raw",
   "metadata": {},
   "source": [
    "Instance objects: have data attributes and methods\n",
    "MyClass.count is a function object and myclass.count is a method object\n",
    "MyClass.count(myclass) <--> myclass.count() 可以看成function与method的区别"
   ]
  },
  {
   "cell_type": "code",
   "execution_count": 16,
   "metadata": {
    "collapsed": false
   },
   "outputs": [
    {
     "name": "stdout",
     "output_type": "stream",
     "text": [
      "<function MyClass.count at 0x7f6202722730>\n",
      "<bound method MyClass.count of <__main__.MyClass object at 0x7f6202744d30>>\n"
     ]
    }
   ],
   "source": [
    "myclass = MyClass()\n",
    "print(MyClass.count)\n",
    "print(myclass.count)"
   ]
  },
  {
   "cell_type": "raw",
   "metadata": {},
   "source": []
  },
  {
   "cell_type": "raw",
   "metadata": {},
   "source": []
  },
  {
   "cell_type": "raw",
   "metadata": {},
   "source": []
  },
  {
   "cell_type": "raw",
   "metadata": {},
   "source": []
  },
  {
   "cell_type": "code",
   "execution_count": 5,
   "metadata": {
    "collapsed": false
   },
   "outputs": [
    {
     "name": "stdout",
     "output_type": "stream",
     "text": [
      "OrderedDict([('key', <Parameter \"key\">), ('args', <Parameter \"*args\">), ('kwargs', <Parameter \"**kwargs\">)])\n",
      "(key, *args, **kwargs)\n"
     ]
    }
   ],
   "source": [
    "import inspect\n",
    "\n",
    "def foo(key, *args, **kwargs):\n",
    "    pass\n",
    "\n",
    "result = inspect.signature(foo).parameters\n",
    "print(result)\n",
    "print(inspect.signature(foo))"
   ]
  },
  {
   "cell_type": "code",
   "execution_count": 7,
   "metadata": {
    "collapsed": false
   },
   "outputs": [
    {
     "name": "stdout",
     "output_type": "stream",
     "text": [
      "test\n",
      "['test']\n",
      "test2\n",
      "['test2', 'test3']\n"
     ]
    }
   ],
   "source": [
    "import urllib.parse as parse\n",
    "\n",
    "data = \"test=test&test2=test2&test2=test3\"\n",
    "for key, value in parse.parse_qs(data).items():\n",
    "    print(key)\n",
    "    print(value)"
   ]
  },
  {
   "cell_type": "code",
   "execution_count": 12,
   "metadata": {
    "collapsed": false
   },
   "outputs": [
    {
     "name": "stdout",
     "output_type": "stream",
     "text": [
      "<module 'urllib' from '/usr/lib/python3.5/urllib/__init__.py'>\n",
      "{'test': ['test']}\n"
     ]
    }
   ],
   "source": [
    "def f(name):\n",
    "    module = __import__(name)\n",
    "    print(module)\n",
    "    print(module.parse.parse_qs('test=test'))\n",
    "    \n",
    "f('urllib')\n"
   ]
  }
 ],
 "metadata": {
  "kernelspec": {
   "display_name": "Python 3",
   "language": "python",
   "name": "python3"
  },
  "language_info": {
   "codemirror_mode": {
    "name": "ipython",
    "version": 3
   },
   "file_extension": ".py",
   "mimetype": "text/x-python",
   "name": "python",
   "nbconvert_exporter": "python",
   "pygments_lexer": "ipython3",
   "version": "3.5.2"
  }
 },
 "nbformat": 4,
 "nbformat_minor": 2
}
